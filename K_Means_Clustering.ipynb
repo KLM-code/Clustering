{
  "nbformat": 4,
  "nbformat_minor": 0,
  "metadata": {
    "kernelspec": {
      "display_name": "Python 3",
      "language": "python",
      "name": "python3"
    },
    "language_info": {
      "codemirror_mode": {
        "name": "ipython",
        "version": 3
      },
      "file_extension": ".py",
      "mimetype": "text/x-python",
      "name": "python",
      "nbconvert_exporter": "python",
      "pygments_lexer": "ipython3",
      "version": "3.6.3"
    },
    "colab": {
      "name": "K-Means Clustering.ipynb",
      "provenance": [],
      "collapsed_sections": [],
      "toc_visible": true
    }
  },
  "cells": [
    {
      "cell_type": "markdown",
      "metadata": {
        "id": "zK7EWLIXRu0C"
      },
      "source": [
        "# K-Means Clustering"
      ]
    },
    {
      "cell_type": "markdown",
      "metadata": {
        "id": "Enllke2tSrj6"
      },
      "source": [
        "For the following dataset, perform the clustering:\n",
        "\n",
        "17 28 50 60 80 89 150 167 171 189 \n",
        "1. \tUse the K-means algorithm with K=3 to cluster the data\n",
        "2.  What will the final clusters be after 3 iterations if k=3 and the initial centers are 150, 171 and 189?\n"
      ]
    },
    {
      "cell_type": "code",
      "metadata": {
        "id": "EgH2HZ8UibqB"
      },
      "source": [
        "# import packages\n",
        "%matplotlib inline\n",
        "import numpy as np\n",
        "import pandas as pd\n",
        "import matplotlib.pyplot as plt\n",
        "import seaborn as sns\n",
        "sns.set()"
      ],
      "execution_count": 1,
      "outputs": []
    },
    {
      "cell_type": "markdown",
      "metadata": {
        "id": "aYiHW49dxl-B"
      },
      "source": [
        "# 1. Use the K-means algorithm with K= 3 to cluster the data"
      ]
    },
    {
      "cell_type": "code",
      "metadata": {
        "id": "CFNLDfazoNVj"
      },
      "source": [
        "List=[17, 28, 50, 60, 80, 89, 150, 167, 171, 189]\n",
        "data = np.array(List)\n",
        "k=3"
      ],
      "execution_count": 2,
      "outputs": []
    },
    {
      "cell_type": "code",
      "metadata": {
        "colab": {
          "base_uri": "https://localhost:8080/"
        },
        "id": "9XoXnvb0lVaL",
        "outputId": "5945cf53-4d63-473e-83e6-972dc73ea20d"
      },
      "source": [
        "# initiate cluster centers randomly\n",
        "import random\n",
        "u=random.sample(List, k)\n",
        "u.sort()\n",
        "print(\"Initial cluster centers: \")\n",
        "print(u)\n",
        "\n",
        "# or manually, for example:\n",
        "# u_initial=[17,50,60]\n",
        "# print(\"Initial cluster centers: \")\n",
        "# print(u_initial)\n",
        "# u=u_initial"
      ],
      "execution_count": 3,
      "outputs": [
        {
          "output_type": "stream",
          "text": [
            "Initial cluster centers: \n",
            "[28, 80, 189]\n"
          ],
          "name": "stdout"
        }
      ]
    },
    {
      "cell_type": "code",
      "metadata": {
        "colab": {
          "base_uri": "https://localhost:8080/"
        },
        "id": "wPim9oY4wzzM",
        "outputId": "6ebc1580-92a1-4710-d013-a79fc5e709ae"
      },
      "source": [
        "# compute distance of each number to initial centers\n",
        "distance={}\n",
        "for i in u:\n",
        "   distance[i] = abs(data-i)\n",
        "distance"
      ],
      "execution_count": 4,
      "outputs": [
        {
          "output_type": "execute_result",
          "data": {
            "text/plain": [
              "{28: array([ 11,   0,  22,  32,  52,  61, 122, 139, 143, 161]),\n",
              " 80: array([ 63,  52,  30,  20,   0,   9,  70,  87,  91, 109]),\n",
              " 189: array([172, 161, 139, 129, 109, 100,  39,  22,  18,   0])}"
            ]
          },
          "metadata": {
            "tags": []
          },
          "execution_count": 4
        }
      ]
    },
    {
      "cell_type": "code",
      "metadata": {
        "colab": {
          "base_uri": "https://localhost:8080/",
          "height": 142
        },
        "id": "qouOb25z-jgh",
        "outputId": "211b1b15-93d6-478d-beb1-4b0ad79b4cbe"
      },
      "source": [
        "# convert output from dictionary to dataframe for virtualization purpose\n",
        "df=pd.DataFrame.from_dict(distance, orient='index',\n",
        "                       columns=data)\n",
        "df"
      ],
      "execution_count": 5,
      "outputs": [
        {
          "output_type": "execute_result",
          "data": {
            "text/html": [
              "<div>\n",
              "<style scoped>\n",
              "    .dataframe tbody tr th:only-of-type {\n",
              "        vertical-align: middle;\n",
              "    }\n",
              "\n",
              "    .dataframe tbody tr th {\n",
              "        vertical-align: top;\n",
              "    }\n",
              "\n",
              "    .dataframe thead th {\n",
              "        text-align: right;\n",
              "    }\n",
              "</style>\n",
              "<table border=\"1\" class=\"dataframe\">\n",
              "  <thead>\n",
              "    <tr style=\"text-align: right;\">\n",
              "      <th></th>\n",
              "      <th>17</th>\n",
              "      <th>28</th>\n",
              "      <th>50</th>\n",
              "      <th>60</th>\n",
              "      <th>80</th>\n",
              "      <th>89</th>\n",
              "      <th>150</th>\n",
              "      <th>167</th>\n",
              "      <th>171</th>\n",
              "      <th>189</th>\n",
              "    </tr>\n",
              "  </thead>\n",
              "  <tbody>\n",
              "    <tr>\n",
              "      <th>28</th>\n",
              "      <td>11</td>\n",
              "      <td>0</td>\n",
              "      <td>22</td>\n",
              "      <td>32</td>\n",
              "      <td>52</td>\n",
              "      <td>61</td>\n",
              "      <td>122</td>\n",
              "      <td>139</td>\n",
              "      <td>143</td>\n",
              "      <td>161</td>\n",
              "    </tr>\n",
              "    <tr>\n",
              "      <th>80</th>\n",
              "      <td>63</td>\n",
              "      <td>52</td>\n",
              "      <td>30</td>\n",
              "      <td>20</td>\n",
              "      <td>0</td>\n",
              "      <td>9</td>\n",
              "      <td>70</td>\n",
              "      <td>87</td>\n",
              "      <td>91</td>\n",
              "      <td>109</td>\n",
              "    </tr>\n",
              "    <tr>\n",
              "      <th>189</th>\n",
              "      <td>172</td>\n",
              "      <td>161</td>\n",
              "      <td>139</td>\n",
              "      <td>129</td>\n",
              "      <td>109</td>\n",
              "      <td>100</td>\n",
              "      <td>39</td>\n",
              "      <td>22</td>\n",
              "      <td>18</td>\n",
              "      <td>0</td>\n",
              "    </tr>\n",
              "  </tbody>\n",
              "</table>\n",
              "</div>"
            ],
            "text/plain": [
              "     17   28   50   60   80   89   150  167  171  189\n",
              "28    11    0   22   32   52   61  122  139  143  161\n",
              "80    63   52   30   20    0    9   70   87   91  109\n",
              "189  172  161  139  129  109  100   39   22   18    0"
            ]
          },
          "metadata": {
            "tags": []
          },
          "execution_count": 5
        }
      ]
    },
    {
      "cell_type": "code",
      "metadata": {
        "colab": {
          "base_uri": "https://localhost:8080/"
        },
        "id": "58L8NshMBMJR",
        "outputId": "dc7abf9a-b404-492e-f02f-3297e51a45b4"
      },
      "source": [
        "# for each data point, assign it to the cluster such that the distance between it and the cluster center is minimal\n",
        "\n",
        "# initializing dict with lists \n",
        "cluster={} \n",
        "[cluster.setdefault(x, []) for x in range(k)]  \n",
        "\n",
        "# creating a list of dataframe columns \n",
        "columns = list(df) \n",
        "for i in columns: \n",
        "  if df[i].idxmin() == u[0]:\n",
        "     cluster[0].append(i)\n",
        "  elif df[i].idxmin() == u[1]:\n",
        "    cluster[1].append(i)\n",
        "  else:\n",
        "    cluster[2].append(i)\n",
        "\n",
        "print(\"After the first assignment, cluster: \" + str(dict(cluster))) "
      ],
      "execution_count": 6,
      "outputs": [
        {
          "output_type": "stream",
          "text": [
            "After the first assignment, cluster: {0: [17, 28, 50], 1: [60, 80, 89], 2: [150, 167, 171, 189]}\n"
          ],
          "name": "stdout"
        }
      ]
    },
    {
      "cell_type": "code",
      "metadata": {
        "colab": {
          "base_uri": "https://localhost:8080/"
        },
        "id": "KFo04q7zSGNs",
        "outputId": "ca8b2330-56d1-4307-90b9-aba8897aadab"
      },
      "source": [
        "# for each cluster, update the cluster center\n",
        "u[0]=np.mean(cluster.get(0))\n",
        "u[1]=np.mean(cluster.get(1))\n",
        "u[2]=np.mean(cluster.get(2))\n",
        "print(\"Updated cluster centers:\")\n",
        "print(u)"
      ],
      "execution_count": 7,
      "outputs": [
        {
          "output_type": "stream",
          "text": [
            "Updated cluster centers:\n",
            "[31.666666666666668, 76.33333333333333, 169.25]\n"
          ],
          "name": "stdout"
        }
      ]
    },
    {
      "cell_type": "code",
      "metadata": {
        "colab": {
          "base_uri": "https://localhost:8080/"
        },
        "id": "Jwt0-xnpToxi",
        "outputId": "73e4a7e9-1a17-47a8-d569-70cc6c51016e"
      },
      "source": [
        "# start the second loop of above steps\n",
        "\n",
        "distance={}\n",
        "for i in u:\n",
        "   distance[i] = abs(data-i)\n",
        "df=pd.DataFrame.from_dict(distance, orient='index', columns=data)\n",
        "pd.set_option(\"display.max_rows\", None, \"display.max_columns\", None)\n",
        "print(df)\n",
        "# initializing dict with lists \n",
        "cluster={} \n",
        "[cluster.setdefault(x, []) for x in range(3)] \n",
        "# creating a list of dataframe columns \n",
        "columns = list(df) \n",
        "for i in columns: \n",
        "  if df[i].idxmin() == u[0]:\n",
        "     cluster[0].append(i)\n",
        "  elif df[i].idxmin() == u[1]:\n",
        "    cluster[1].append(i)\n",
        "  else:\n",
        "    cluster[2].append(i)\n",
        "print(\"After the second assignment, cluster: \" + str(dict(cluster)))\n",
        "u[0]=np.mean(cluster.get(0))\n",
        "u[1]=np.mean(cluster.get(1))\n",
        "u[2]=np.mean(cluster.get(2))\n",
        "print(\"Updated cluster centers:\")\n",
        "print(u)"
      ],
      "execution_count": 8,
      "outputs": [
        {
          "output_type": "stream",
          "text": [
            "                   17          28          50          60         80   \\\n",
            "31.666667    14.666667    3.666667   18.333333   28.333333  48.333333   \n",
            "76.333333    59.333333   48.333333   26.333333   16.333333   3.666667   \n",
            "169.250000  152.250000  141.250000  119.250000  109.250000  89.250000   \n",
            "\n",
            "                  89          150         167         171         189  \n",
            "31.666667   57.333333  118.333333  135.333333  139.333333  157.333333  \n",
            "76.333333   12.666667   73.666667   90.666667   94.666667  112.666667  \n",
            "169.250000  80.250000   19.250000    2.250000    1.750000   19.750000  \n",
            "After the second assignment, cluster: {0: [17, 28, 50], 1: [60, 80, 89], 2: [150, 167, 171, 189]}\n",
            "Updated cluster centers:\n",
            "[31.666666666666668, 76.33333333333333, 169.25]\n"
          ],
          "name": "stdout"
        }
      ]
    },
    {
      "cell_type": "code",
      "metadata": {
        "colab": {
          "base_uri": "https://localhost:8080/"
        },
        "id": "eAwWvuAAUJV7",
        "outputId": "9b41e725-a73f-4dc7-db5a-b4ddcd1d1e3f"
      },
      "source": [
        "# start the third loop of above step\n",
        "distance={}\n",
        "for i in u:\n",
        "   distance[i] = abs(data-i)\n",
        "df=pd.DataFrame.from_dict(distance, orient='index', columns=data)\n",
        "pd.set_option(\"display.max_rows\", None, \"display.max_columns\", None)\n",
        "print(df)\n",
        "# initializing dict with lists \n",
        "cluster={} \n",
        "[cluster.setdefault(x, []) for x in range(3)] \n",
        "\n",
        "# creating a list of dataframe columns \n",
        "columns = list(df) \n",
        "for i in columns: \n",
        "  if df[i].idxmin() == u[0]:\n",
        "     cluster[0].append(i)\n",
        "  elif df[i].idxmin() == u[1]:\n",
        "    cluster[1].append(i)\n",
        "  else:\n",
        "    cluster[2].append(i)\n",
        "\n",
        "print(\"After the third assignment, cluster: \" + str(dict(cluster)))\n",
        "u[0]=np.mean(cluster.get(0))\n",
        "u[1]=np.mean(cluster.get(1))\n",
        "u[2]=np.mean(cluster.get(2))\n",
        "print(\"Updated cluster centers:\")\n",
        "print(u)"
      ],
      "execution_count": 9,
      "outputs": [
        {
          "output_type": "stream",
          "text": [
            "                   17          28          50          60         80   \\\n",
            "31.666667    14.666667    3.666667   18.333333   28.333333  48.333333   \n",
            "76.333333    59.333333   48.333333   26.333333   16.333333   3.666667   \n",
            "169.250000  152.250000  141.250000  119.250000  109.250000  89.250000   \n",
            "\n",
            "                  89          150         167         171         189  \n",
            "31.666667   57.333333  118.333333  135.333333  139.333333  157.333333  \n",
            "76.333333   12.666667   73.666667   90.666667   94.666667  112.666667  \n",
            "169.250000  80.250000   19.250000    2.250000    1.750000   19.750000  \n",
            "After the third assignment, cluster: {0: [17, 28, 50], 1: [60, 80, 89], 2: [150, 167, 171, 189]}\n",
            "Updated cluster centers:\n",
            "[31.666666666666668, 76.33333333333333, 169.25]\n"
          ],
          "name": "stdout"
        }
      ]
    },
    {
      "cell_type": "code",
      "metadata": {
        "id": "76Y3OVW9pdpl",
        "colab": {
          "base_uri": "https://localhost:8080/"
        },
        "outputId": "4b7bfceb-9e97-4cb5-dabd-e5ac07ed20f2"
      },
      "source": [
        "print(\"It is not changing(convergence) after 3 iterations. The K-means clustering result is \")\n",
        "print(str(dict(cluster)))"
      ],
      "execution_count": 10,
      "outputs": [
        {
          "output_type": "stream",
          "text": [
            "It is not changing(convergence) after 3 iterations. The K-means clustering result is \n",
            "{0: [17, 28, 50], 1: [60, 80, 89], 2: [150, 167, 171, 189]}\n"
          ],
          "name": "stdout"
        }
      ]
    },
    {
      "cell_type": "markdown",
      "metadata": {
        "id": "S75zvHwks10o"
      },
      "source": [
        "Different starting numbers(cluster centers) can lead to different clustering results in our example, which resonates that K-means is very sensitive to initial conditions. The solution is to run multiple trials and choose one with the best SSE. I will further explore this in a seperate notebook. "
      ]
    },
    {
      "cell_type": "markdown",
      "metadata": {
        "id": "2AXApmEHnLW1"
      },
      "source": [
        "Using the default KMeans algorithm, the result is:"
      ]
    },
    {
      "cell_type": "code",
      "metadata": {
        "colab": {
          "base_uri": "https://localhost:8080/"
        },
        "id": "18G9zcRThTxg",
        "outputId": "d91edfdd-8a24-4f67-b3a7-dd07de355ad4"
      },
      "source": [
        "from sklearn.cluster import KMeans\n",
        "kmeans = KMeans(n_clusters=3,random_state=0).fit(data.reshape(-1,1))\n",
        "kmeans.predict(data.reshape(-1,1))"
      ],
      "execution_count": 12,
      "outputs": [
        {
          "output_type": "execute_result",
          "data": {
            "text/plain": [
              "array([2, 2, 2, 0, 0, 0, 1, 1, 1, 1], dtype=int32)"
            ]
          },
          "metadata": {
            "tags": []
          },
          "execution_count": 12
        }
      ]
    },
    {
      "cell_type": "markdown",
      "metadata": {
        "id": "0skJPXUJQX-7"
      },
      "source": [
        "#2. For K-means, what will the final clusters be after 3 iterations if k=3 and the initial centers are 150, 171 and 189?"
      ]
    },
    {
      "cell_type": "code",
      "metadata": {
        "colab": {
          "base_uri": "https://localhost:8080/"
        },
        "id": "11uA-c8uQh_N",
        "outputId": "b22c5e2c-8588-4ac5-9c67-9820436a7b70"
      },
      "source": [
        "data = np.array([17, 28, 50, 60, 80, 89, 150, 167, 171, 189])\n",
        "k=3\n",
        "u=[150,171,189]\n",
        "\n",
        "for j in range(k): \n",
        "  distance={}\n",
        "  for i in u:\n",
        "    distance[i] = abs(data-i)\n",
        "  df=pd.DataFrame.from_dict(distance, orient='index', columns=data)\n",
        "  pd.set_option(\"display.max_rows\", None, \"display.max_columns\", None)\n",
        "  print(df) \n",
        "  # initializing dict with lists \n",
        "  cluster={} \n",
        "  [cluster.setdefault(x, []) for x in range(3)] \n",
        "  # creating a list of dataframe columns \n",
        "  columns = list(df) \n",
        "  for i in columns: \n",
        "    if df[i].idxmin() == u[0]:\n",
        "      cluster[0].append(i)\n",
        "    elif df[i].idxmin() == u[1]:\n",
        "      cluster[1].append(i)\n",
        "    else:\n",
        "      cluster[2].append(i)\n",
        "  print(\"After the assignment, cluster: \" + str(dict(cluster)))\n",
        "  u[0]=np.mean(cluster.get(0))\n",
        "  u[1]=np.mean(cluster.get(1))\n",
        "  u[2]=np.mean(cluster.get(2))\n",
        "  print(\"Updated cluster centers:\")\n",
        "  print(u)"
      ],
      "execution_count": 14,
      "outputs": [
        {
          "output_type": "stream",
          "text": [
            "     17   28   50   60   80   89   150  167  171  189\n",
            "150  133  122  100   90   70   61    0   17   21   39\n",
            "171  154  143  121  111   91   82   21    4    0   18\n",
            "189  172  161  139  129  109  100   39   22   18    0\n",
            "After the assignment, cluster: {0: [17, 28, 50, 60, 80, 89, 150], 1: [167, 171], 2: [189]}\n",
            "Updated cluster centers:\n",
            "[67.71428571428571, 169.0, 189.0]\n",
            "                   17          28          50          60          80   \\\n",
            "67.714286    50.714286   39.714286   17.714286    7.714286   12.285714   \n",
            "169.000000  152.000000  141.000000  119.000000  109.000000   89.000000   \n",
            "189.000000  172.000000  161.000000  139.000000  129.000000  109.000000   \n",
            "\n",
            "                   89         150        167         171         189  \n",
            "67.714286    21.285714  82.285714  99.285714  103.285714  121.285714  \n",
            "169.000000   80.000000  19.000000   2.000000    2.000000   20.000000  \n",
            "189.000000  100.000000  39.000000  22.000000   18.000000    0.000000  \n",
            "After the assignment, cluster: {0: [17, 28, 50, 60, 80, 89], 1: [150, 167, 171], 2: [189]}\n",
            "Updated cluster centers:\n",
            "[54.0, 162.66666666666666, 189.0]\n",
            "                   17          28          50          60          80   \\\n",
            "54.000000    37.000000   26.000000    4.000000    6.000000   26.000000   \n",
            "162.666667  145.666667  134.666667  112.666667  102.666667   82.666667   \n",
            "189.000000  172.000000  161.000000  139.000000  129.000000  109.000000   \n",
            "\n",
            "                   89         150         167         171         189  \n",
            "54.000000    35.000000  96.000000  113.000000  117.000000  135.000000  \n",
            "162.666667   73.666667  12.666667    4.333333    8.333333   26.333333  \n",
            "189.000000  100.000000  39.000000   22.000000   18.000000    0.000000  \n",
            "After the assignment, cluster: {0: [17, 28, 50, 60, 80, 89], 1: [150, 167, 171], 2: [189]}\n",
            "Updated cluster centers:\n",
            "[54.0, 162.66666666666666, 189.0]\n"
          ],
          "name": "stdout"
        }
      ]
    }
  ]
}